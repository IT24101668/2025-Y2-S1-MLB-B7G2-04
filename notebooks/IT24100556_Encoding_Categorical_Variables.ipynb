{
  "nbformat": 4,
  "nbformat_minor": 0,
  "metadata": {
    "colab": {
      "provenance": [],
      "gpuType": "T4"
    },
    "kernelspec": {
      "name": "python3",
      "display_name": "Python 3"
    },
    "language_info": {
      "name": "python"
    },
    "accelerator": "GPU"
  },
  "cells": [
    {
      "cell_type": "code",
      "execution_count": 1,
      "metadata": {
        "colab": {
          "base_uri": "https://localhost:8080/"
        },
        "id": "cRnkGcTi5-Hv",
        "outputId": "4842d0ac-82a8-4f79-fe90-0df11f187ba5"
      },
      "outputs": [
        {
          "output_type": "stream",
          "name": "stdout",
          "text": [
            "kaggle.json file created successfully.\n",
            "Requirement already satisfied: kaggle in /usr/local/lib/python3.12/dist-packages (1.7.4.5)\n",
            "Requirement already satisfied: bleach in /usr/local/lib/python3.12/dist-packages (from kaggle) (6.2.0)\n",
            "Requirement already satisfied: certifi>=14.05.14 in /usr/local/lib/python3.12/dist-packages (from kaggle) (2025.8.3)\n",
            "Requirement already satisfied: charset-normalizer in /usr/local/lib/python3.12/dist-packages (from kaggle) (3.4.3)\n",
            "Requirement already satisfied: idna in /usr/local/lib/python3.12/dist-packages (from kaggle) (3.10)\n",
            "Requirement already satisfied: protobuf in /usr/local/lib/python3.12/dist-packages (from kaggle) (5.29.5)\n",
            "Requirement already satisfied: python-dateutil>=2.5.3 in /usr/local/lib/python3.12/dist-packages (from kaggle) (2.9.0.post0)\n",
            "Requirement already satisfied: python-slugify in /usr/local/lib/python3.12/dist-packages (from kaggle) (8.0.4)\n",
            "Requirement already satisfied: requests in /usr/local/lib/python3.12/dist-packages (from kaggle) (2.32.4)\n",
            "Requirement already satisfied: setuptools>=21.0.0 in /usr/local/lib/python3.12/dist-packages (from kaggle) (75.2.0)\n",
            "Requirement already satisfied: six>=1.10 in /usr/local/lib/python3.12/dist-packages (from kaggle) (1.17.0)\n",
            "Requirement already satisfied: text-unidecode in /usr/local/lib/python3.12/dist-packages (from kaggle) (1.3)\n",
            "Requirement already satisfied: tqdm in /usr/local/lib/python3.12/dist-packages (from kaggle) (4.67.1)\n",
            "Requirement already satisfied: urllib3>=1.15.1 in /usr/local/lib/python3.12/dist-packages (from kaggle) (2.5.0)\n",
            "Requirement already satisfied: webencodings in /usr/local/lib/python3.12/dist-packages (from kaggle) (0.5.1)\n",
            "Dataset URL: https://www.kaggle.com/datasets/wasiqaliyasir/breast-cancer-dataset\n",
            "License(s): apache-2.0\n",
            "Downloading breast-cancer-dataset.zip to /content/data\n",
            "  0% 0.00/48.7k [00:00<?, ?B/s]\n",
            "100% 48.7k/48.7k [00:00<00:00, 224MB/s]\n",
            "Dataset downloaded and unzipped successfully.\n"
          ]
        }
      ],
      "source": [
        "import json\n",
        "\n",
        "\n",
        "kaggle_credentials = {\n",
        "    \"username\": \"Teshiniii\",\n",
        "    \"key\": \"0e4de6becd2e7a91773fd195c8878f3a\"\n",
        "}\n",
        "\n",
        "\n",
        "with open(\"kaggle.json\", \"w\") as json_file:\n",
        "    json.dump(kaggle_credentials, json_file, indent=4)\n",
        "\n",
        "print(\"kaggle.json file created successfully.\")\n",
        "\n",
        "import os\n",
        "import zipfile\n",
        "\n",
        "\n",
        "os.makedirs('/root/.kaggle', exist_ok=True)\n",
        "\n",
        "\n",
        "!mv kaggle.json /root/.kaggle/\n",
        "\n",
        "!chmod 600 /root/.kaggle/kaggle.json\n",
        "\n",
        "\n",
        "!pip install kaggle\n",
        "!kaggle datasets download -d wasiqaliyasir/breast-cancer-dataset -p /content/data --unzip\n",
        "print(\"Dataset downloaded and unzipped successfully.\")"
      ]
    },
    {
      "cell_type": "code",
      "source": [
        "import os\n",
        "import pandas as pd\n",
        "import matplotlib.pyplot as plt\n",
        "import seaborn as sns\n",
        "\n",
        "\n",
        "data_dir = \"/content/data\"\n",
        "os.makedirs(data_dir, exist_ok=True)\n",
        "labels_df = pd.read_csv(f\"{data_dir}/Breast_cancer_dataset.csv\")\n",
        "print(f\"Original CSV entries: {len(labels_df)}\")\n",
        "\n",
        "labels_df_encoded = pd.get_dummies(labels_df, columns=['diagnosis'], prefix='diagnosis')\n",
        "print(\"Encoded DataFrame shape:\", labels_df_encoded.shape)\n",
        "print(\"Sample encoded columns:\", [col for col in labels_df_encoded.columns if 'diagnosis' in col])\n",
        "\n",
        "\n",
        "diagnosis_counts = labels_df['diagnosis'].value_counts()\n",
        "plt.figure(figsize=(6, 4))\n",
        "sns.barplot(x=diagnosis_counts.index, y=diagnosis_counts.values)\n",
        "plt.title('Distribution of Diagnosis Categories')\n",
        "plt.ylabel('Count')\n",
        "plt.show()\n",
        "print('Interpretation: Slight imbalance (more benign cases) highlights need for encoding to maintain class representation in modeling.')"
      ],
      "metadata": {
        "colab": {
          "base_uri": "https://localhost:8080/",
          "height": 479
        },
        "id": "CtKARczq7B_b",
        "outputId": "0b5016e5-ddb3-4fdd-803e-d1e439f5b0df"
      },
      "execution_count": 4,
      "outputs": [
        {
          "output_type": "stream",
          "name": "stdout",
          "text": [
            "Original CSV entries: 569\n",
            "Encoded DataFrame shape: (569, 34)\n",
            "Sample encoded columns: ['diagnosis_B', 'diagnosis_M']\n"
          ]
        },
        {
          "output_type": "display_data",
          "data": {
            "text/plain": [
              "<Figure size 600x400 with 1 Axes>"
            ],
            "image/png": "[encoded data removed]"
          },
          "metadata": {}
        },
        {
          "output_type": "stream",
          "name": "stdout",
          "text": [
            "Interpretation: Slight imbalance (more benign cases) highlights need for encoding to maintain class representation in modeling.\n"
          ]
        }
      ]
    }
  ]
}